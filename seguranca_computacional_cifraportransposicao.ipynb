{
 "cells": [
  {
   "cell_type": "code",
   "execution_count": 1,
   "id": "a8358a2d-414c-4a81-8c16-ac03a533a89c",
   "metadata": {},
   "outputs": [],
   "source": [
    "import math \n",
    "key = \"ab\"\n",
    "sorted_key = sorted(key)\n",
    "texto = \"pleasetransferonemilliondollarstomyswissbankaccountsixtwotwo\"\n",
    "colunas = len(key)\n",
    "linhas = math.ceil(len(texto)/len(sorted_key))\n",
    "alfabeto = \"abcdefghijklmnopqrstuvwxyz\""
   ]
  },
  {
   "cell_type": "code",
   "execution_count": 2,
   "id": "aa605849-3b34-4a45-9244-bf2dab55d1f3",
   "metadata": {},
   "outputs": [],
   "source": [
    "temp = 0\n",
    "while len(texto) != (linhas*colunas):\n",
    "    texto = texto + alfabeto[temp]\n",
    "    temp += 1\n",
    "\n",
    "matriz = [[\"0\"] * colunas for _ in range(linhas)]\n",
    "temp = 0\n",
    "x = 0\n",
    "y = 0\n",
    "for letra in texto:\n",
    "    if y == colunas:\n",
    "        x += 1\n",
    "        y = 0\n",
    "    matriz[x][y] = letra\n",
    "    y += 1"
   ]
  },
  {
   "cell_type": "code",
   "execution_count": 3,
   "id": "740df814-deef-4092-9541-5838ed218168",
   "metadata": {},
   "outputs": [
    {
     "name": "stdout",
     "output_type": "stream",
     "text": [
      "['p', 'l']\n",
      "['e', 'a']\n",
      "['s', 'e']\n",
      "['t', 'r']\n",
      "['a', 'n']\n",
      "['s', 'f']\n",
      "['e', 'r']\n",
      "['o', 'n']\n",
      "['e', 'm']\n",
      "['i', 'l']\n",
      "['l', 'i']\n",
      "['o', 'n']\n",
      "['d', 'o']\n",
      "['l', 'l']\n",
      "['a', 'r']\n",
      "['s', 't']\n",
      "['o', 'm']\n",
      "['y', 's']\n",
      "['w', 'i']\n",
      "['s', 's']\n",
      "['b', 'a']\n",
      "['n', 'k']\n",
      "['a', 'c']\n",
      "['c', 'o']\n",
      "['u', 'n']\n",
      "['t', 's']\n",
      "['i', 'x']\n",
      "['t', 'w']\n",
      "['o', 't']\n",
      "['w', 'o']\n"
     ]
    }
   ],
   "source": [
    "for lista in matriz:\n",
    "    print(lista)"
   ]
  },
  {
   "cell_type": "code",
   "execution_count": 4,
   "id": "47d46080-6cd1-4d70-809e-d283c82c4189",
   "metadata": {},
   "outputs": [
    {
     "name": "stdout",
     "output_type": "stream",
     "text": [
      "pestaseoeilodlasoywsbnacutitowlaernfrnmlinolrtmsisakconsxwto"
     ]
    }
   ],
   "source": [
    "temp = 0\n",
    "texto_criptografado = \"\"\n",
    "for i in range(colunas):\n",
    "    for j in range(linhas):\n",
    "        pos = key.index(sorted_key[temp])\n",
    "        texto_criptografado += matriz[j][pos]\n",
    "        print(matriz[j][pos], end = '')\n",
    "    temp += 1"
   ]
  },
  {
   "cell_type": "code",
   "execution_count": 5,
   "id": "320a1b96-ea4b-4ee8-b8e1-8c4775717e9c",
   "metadata": {},
   "outputs": [
    {
     "name": "stdout",
     "output_type": "stream",
     "text": [
      "[2, 4, 8, 16, 32]\n"
     ]
    }
   ],
   "source": [
    "texto_criptografado = \"afllsksoselawaiatoossctclnmomantesilyntwrnntsowdpaedobuoeriricxb\"\n",
    "multiplos = []\n",
    "for i in range(2, math.ceil(len(texto_criptografado)/2) + 1, 1):\n",
    "    if len(texto_criptografado) % i == 0:\n",
    "        multiplos.append(i)\n",
    "\n",
    "print(multiplos)"
   ]
  },
  {
   "cell_type": "code",
   "execution_count": 6,
   "id": "0f563c74-4eba-4320-a299-8f1cb0febdb2",
   "metadata": {},
   "outputs": [],
   "source": [
    "from itertools import permutations\n",
    "\n",
    "def gerar_permutacoes(lista):\n",
    "    return list(permutations(lista))"
   ]
  },
  {
   "cell_type": "code",
   "execution_count": 7,
   "id": "5c95964b-0798-4bcc-92f0-7ed9d9631b61",
   "metadata": {},
   "outputs": [
    {
     "name": "stdout",
     "output_type": "stream",
     "text": [
      "Há 32 pedaços => ['af', 'll', 'sk', 'so', 'se', 'la', 'wa', 'ia', 'to', 'os', 'sc', 'tc', 'ln', 'mo', 'ma', 'nt', 'es', 'il', 'yn', 'tw', 'rn', 'nt', 'so', 'wd', 'pa', 'ed', 'ob', 'uo', 'er', 'ir', 'ic', 'xb']\n",
      " ==============================================================================\n",
      "Há 16 pedaços => ['afll', 'skso', 'sela', 'waia', 'toos', 'sctc', 'lnmo', 'mant', 'esil', 'yntw', 'rnnt', 'sowd', 'paed', 'obuo', 'erir', 'icxb']\n",
      " ==============================================================================\n",
      "Há 8 pedaços => ['afllskso', 'selawaia', 'toossctc', 'lnmomant', 'esilyntw', 'rnntsowd', 'paedobuo', 'eriricxb']\n",
      " ==============================================================================\n",
      "Há 4 pedaços => ['afllsksoselawaia', 'toossctclnmomant', 'esilyntwrnntsowd', 'paedobuoeriricxb']\n",
      " ==============================================================================\n",
      "Há 2 pedaços => ['afllsksoselawaiatoossctclnmomant', 'esilyntwrnntsowdpaedobuoeriricxb']\n",
      " ==============================================================================\n"
     ]
    }
   ],
   "source": [
    "from langdetect import detect\n",
    "for i in multiplos:\n",
    "    pedacos = []\n",
    "    x = 0\n",
    "    y = i\n",
    "    for j in range(int(len(texto_criptografado)/i)):\n",
    "        pedacos.append(texto_criptografado[x:y])\n",
    "        x += i\n",
    "        y += i\n",
    "    print(f\"Há {len(pedacos)} pedaços => {pedacos}\\n ==============================================================================\")\n",
    "    matriz = [[\"0\"] *len(pedacos[0]) for _ in range(int(len(texto_criptografado)/i))]\n",
    "    linha = 0\n",
    "    coluna = 0\n",
    "    \"\"\"\n",
    "    if len(pedacos) <= 8:\n",
    "        permutacoes = gerar_permutacoes(pedacos)\n",
    "        print(len(permutacoes))\n",
    "    \"\"\""
   ]
  },
  {
   "cell_type": "code",
   "execution_count": null,
   "id": "00f37bd9-f59f-4752-b4ec-f36faaf17799",
   "metadata": {},
   "outputs": [],
   "source": []
  }
 ],
 "metadata": {
  "kernelspec": {
   "display_name": "Python 3 (ipykernel)",
   "language": "python",
   "name": "python3"
  },
  "language_info": {
   "codemirror_mode": {
    "name": "ipython",
    "version": 3
   },
   "file_extension": ".py",
   "mimetype": "text/x-python",
   "name": "python",
   "nbconvert_exporter": "python",
   "pygments_lexer": "ipython3",
   "version": "3.12.0"
  }
 },
 "nbformat": 4,
 "nbformat_minor": 5
}
